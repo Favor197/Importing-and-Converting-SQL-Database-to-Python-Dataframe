{
 "cells": [
  {
   "cell_type": "markdown",
   "metadata": {},
   "source": [
    "## Importing and Converting SQL Database to Pandas DataFrame in Python"
   ]
  },
  {
   "cell_type": "markdown",
   "metadata": {},
   "source": [
    "In this tutorial, I will demonstrate how to import SQL database to Jupyter notebook and convert the tables in the database to dataframes. SQL murder mystery database will be used and it can be downloaded [here](https://github.com/NUKnightLab/sql-mysteries). \n"
   ]
  },
  {
   "cell_type": "markdown",
   "metadata": {},
   "source": [
    "### Table of Contents\n",
    "1. [Connecting to SQL Database](#SQLConnect)\n",
    "2. [Converting Database to Dataframe](#PandasConvert)"
   ]
  },
  {
   "cell_type": "markdown",
   "metadata": {},
   "source": [
    "### Connecting to SQL Database <a id=\"SQLConnect\"></a>"
   ]
  },
  {
   "cell_type": "markdown",
   "metadata": {},
   "source": [
    "Python packages that will be used in this exercise are sqlalchemy, to import the database, and pandas to convert the tables to dataframes. We will commence by importing the required libraries as shown in the image below."
   ]
  },
  {
   "cell_type": "code",
   "execution_count": 1,
   "metadata": {},
   "outputs": [],
   "source": [
    "#import create_engine from sqlalchemy\n",
    "from sqlalchemy import create_engine\n",
    "\n",
    "#import pandas\n",
    "import pandas as pd"
   ]
  },
  {
   "cell_type": "markdown",
   "metadata": {},
   "source": [
    "Using create_engine() method from sqlalchemy library, we create an engine and pass the location of database file as an argument. A connection to the database is created using connect() method."
   ]
  },
  {
   "cell_type": "code",
   "execution_count": 2,
   "metadata": {},
   "outputs": [],
   "source": [
    "#read sql-murder-mystery.db datdabse using create_engine\n",
    "engine = create_engine('sqlite:///sql-murder-mystery.db')\n",
    "\n",
    "#connect to database eninge\n",
    "db_connect = engine.connect()"
   ]
  },
  {
   "cell_type": "markdown",
   "metadata": {},
   "source": [
    "To work with the database, we need to know the tables names and other properties of each table in the database. To get this information, we use table_names() attribute to display the available tables."
   ]
  },
  {
   "cell_type": "code",
   "execution_count": 3,
   "metadata": {},
   "outputs": [
    {
     "data": {
      "text/plain": [
       "['crime_scene_report',\n",
       " 'drivers_license',\n",
       " 'facebook_event_checkin',\n",
       " 'get_fit_now_check_in',\n",
       " 'get_fit_now_member',\n",
       " 'income',\n",
       " 'interview',\n",
       " 'person',\n",
       " 'solution']"
      ]
     },
     "execution_count": 3,
     "metadata": {},
     "output_type": "execute_result"
    }
   ],
   "source": [
    "#view tables in sql-murder-mystery database using table_names() method\n",
    "db_tables= engine.table_names()\n",
    "\n",
    "#print table names in database\n",
    "db_tables"
   ]
  },
  {
   "cell_type": "markdown",
   "metadata": {},
   "source": [
    "Now we know the tables in our database, we will go ahead to write a SQL query that will return all the records on a drivers_license table and convert the result to a dataframe.\n"
   ]
  },
  {
   "cell_type": "code",
   "execution_count": 4,
   "metadata": {},
   "outputs": [],
   "source": [
    "#run sql command to select all records in drivers_license table\n",
    "query = db_connect.execute(\"\"\"SELECT * \n",
    "                            FROM drivers_license\"\"\")"
   ]
  },
  {
   "cell_type": "markdown",
   "metadata": {},
   "source": [
    "#### Note:\n",
    "Writing the query within three quotation marks is to enable us write a multi-line query."
   ]
  },
  {
   "cell_type": "markdown",
   "metadata": {},
   "source": [
    "### Converting Database to Dataframe<a id =\"PandasConvert\"></a>"
   ]
  },
  {
   "cell_type": "markdown",
   "metadata": {},
   "source": [
    "We use the fetchall() method to get all rows returned in the query and convert to dataframe using DataFrame() method from Pandas library.\n",
    "\n",
    "To get the correct column names, we set the query keys as the dataframe's column name. If the key is not set, we will have a dataframe with index numbers as its column names."
   ]
  },
  {
   "cell_type": "code",
   "execution_count": 5,
   "metadata": {},
   "outputs": [],
   "source": [
    "#convert sql result to DataFrame\n",
    "df = pd.DataFrame(query.fetchall())\n",
    "\n",
    "#make sql result keys to be dataframe's column names\n",
    "df.columns = query.keys()"
   ]
  },
  {
   "cell_type": "markdown",
   "metadata": {},
   "source": [
    "After converting the required tables to dataframes, it is important to close the connection to the database enigine. This would free up resources that can be used for other processes."
   ]
  },
  {
   "cell_type": "code",
   "execution_count": 6,
   "metadata": {},
   "outputs": [],
   "source": [
    "#close database connection\n",
    "db_connect.close()"
   ]
  },
  {
   "cell_type": "markdown",
   "metadata": {},
   "source": [
    "Let's see our end-result by viewing the first 5 rows of the dataframe."
   ]
  },
  {
   "cell_type": "code",
   "execution_count": 7,
   "metadata": {},
   "outputs": [
    {
     "data": {
      "text/html": [
       "<div>\n",
       "<style scoped>\n",
       "    .dataframe tbody tr th:only-of-type {\n",
       "        vertical-align: middle;\n",
       "    }\n",
       "\n",
       "    .dataframe tbody tr th {\n",
       "        vertical-align: top;\n",
       "    }\n",
       "\n",
       "    .dataframe thead th {\n",
       "        text-align: right;\n",
       "    }\n",
       "</style>\n",
       "<table border=\"1\" class=\"dataframe\">\n",
       "  <thead>\n",
       "    <tr style=\"text-align: right;\">\n",
       "      <th></th>\n",
       "      <th>id</th>\n",
       "      <th>age</th>\n",
       "      <th>height</th>\n",
       "      <th>eye_color</th>\n",
       "      <th>hair_color</th>\n",
       "      <th>gender</th>\n",
       "      <th>plate_number</th>\n",
       "      <th>car_make</th>\n",
       "      <th>car_model</th>\n",
       "    </tr>\n",
       "  </thead>\n",
       "  <tbody>\n",
       "    <tr>\n",
       "      <th>0</th>\n",
       "      <td>100280</td>\n",
       "      <td>72</td>\n",
       "      <td>57</td>\n",
       "      <td>brown</td>\n",
       "      <td>red</td>\n",
       "      <td>male</td>\n",
       "      <td>P24L4U</td>\n",
       "      <td>Acura</td>\n",
       "      <td>MDX</td>\n",
       "    </tr>\n",
       "    <tr>\n",
       "      <th>1</th>\n",
       "      <td>100460</td>\n",
       "      <td>63</td>\n",
       "      <td>72</td>\n",
       "      <td>brown</td>\n",
       "      <td>brown</td>\n",
       "      <td>female</td>\n",
       "      <td>XF02T6</td>\n",
       "      <td>Cadillac</td>\n",
       "      <td>SRX</td>\n",
       "    </tr>\n",
       "    <tr>\n",
       "      <th>2</th>\n",
       "      <td>101029</td>\n",
       "      <td>62</td>\n",
       "      <td>74</td>\n",
       "      <td>green</td>\n",
       "      <td>green</td>\n",
       "      <td>female</td>\n",
       "      <td>VKY5KR</td>\n",
       "      <td>Scion</td>\n",
       "      <td>xB</td>\n",
       "    </tr>\n",
       "    <tr>\n",
       "      <th>3</th>\n",
       "      <td>101198</td>\n",
       "      <td>43</td>\n",
       "      <td>54</td>\n",
       "      <td>amber</td>\n",
       "      <td>brown</td>\n",
       "      <td>female</td>\n",
       "      <td>Y5NZ08</td>\n",
       "      <td>Nissan</td>\n",
       "      <td>Rogue</td>\n",
       "    </tr>\n",
       "    <tr>\n",
       "      <th>4</th>\n",
       "      <td>101255</td>\n",
       "      <td>18</td>\n",
       "      <td>79</td>\n",
       "      <td>blue</td>\n",
       "      <td>grey</td>\n",
       "      <td>female</td>\n",
       "      <td>5162Z1</td>\n",
       "      <td>Lexus</td>\n",
       "      <td>GS</td>\n",
       "    </tr>\n",
       "  </tbody>\n",
       "</table>\n",
       "</div>"
      ],
      "text/plain": [
       "       id  age  height eye_color hair_color  gender plate_number  car_make  \\\n",
       "0  100280   72      57     brown        red    male       P24L4U     Acura   \n",
       "1  100460   63      72     brown      brown  female       XF02T6  Cadillac   \n",
       "2  101029   62      74     green      green  female       VKY5KR     Scion   \n",
       "3  101198   43      54     amber      brown  female       Y5NZ08    Nissan   \n",
       "4  101255   18      79      blue       grey  female       5162Z1     Lexus   \n",
       "\n",
       "  car_model  \n",
       "0       MDX  \n",
       "1       SRX  \n",
       "2        xB  \n",
       "3     Rogue  \n",
       "4        GS  "
      ]
     },
     "execution_count": 7,
     "metadata": {},
     "output_type": "execute_result"
    }
   ],
   "source": [
    "#print first 5 rows of dataframe\n",
    "df.head()"
   ]
  },
  {
   "cell_type": "markdown",
   "metadata": {},
   "source": [
    "There you have it, we have increased our productivity and skills by combining two powerful analysis tools in one environment. Now, we can write our SQL queries, analyze the results and visualize them using matplotlib or seaborn library, all in Jupyter Notebook. \n",
    "\n",
    "The GitHub repo for this tutorial can be found [here](https://github.com/Favor197/Importing-and-Converting-SQL-Database-to-Python-Dataframe)\n",
    "\n",
    "P.S.: There is an easier way to convert database tables to dataframes. This simplified method does not require closing the database engine's connection. We will discuss it in the next post. Anticipate! \n",
    "\n",
    "Till then, keep levelling up."
   ]
  },
  {
   "cell_type": "code",
   "execution_count": null,
   "metadata": {},
   "outputs": [],
   "source": []
  }
 ],
 "metadata": {
  "kernelspec": {
   "display_name": "Python 3",
   "language": "python",
   "name": "python3"
  },
  "language_info": {
   "codemirror_mode": {
    "name": "ipython",
    "version": 3
   },
   "file_extension": ".py",
   "mimetype": "text/x-python",
   "name": "python",
   "nbconvert_exporter": "python",
   "pygments_lexer": "ipython3",
   "version": "3.7.6"
  }
 },
 "nbformat": 4,
 "nbformat_minor": 4
}
